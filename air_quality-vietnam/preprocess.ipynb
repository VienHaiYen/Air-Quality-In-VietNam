{
 "cells": [
  {
   "attachments": {},
   "cell_type": "markdown",
   "metadata": {},
   "source": [
    "# TIỀN XỬ LÍ DỮ LIỆU"
   ]
  },
  {
   "cell_type": "code",
   "execution_count": 28,
   "metadata": {},
   "outputs": [],
   "source": [
    "import pandas as pd\n",
    "import numpy as np\n",
    "import math"
   ]
  },
  {
   "cell_type": "code",
   "execution_count": 29,
   "metadata": {},
   "outputs": [
    {
     "data": {
      "text/html": [
       "<div>\n",
       "<style scoped>\n",
       "    .dataframe tbody tr th:only-of-type {\n",
       "        vertical-align: middle;\n",
       "    }\n",
       "\n",
       "    .dataframe tbody tr th {\n",
       "        vertical-align: top;\n",
       "    }\n",
       "\n",
       "    .dataframe thead th {\n",
       "        text-align: right;\n",
       "    }\n",
       "</style>\n",
       "<table border=\"1\" class=\"dataframe\">\n",
       "  <thead>\n",
       "    <tr style=\"text-align: right;\">\n",
       "      <th></th>\n",
       "      <th>Station ID</th>\n",
       "      <th>AQI index</th>\n",
       "      <th>Location</th>\n",
       "      <th>Station name</th>\n",
       "      <th>Url</th>\n",
       "      <th>Dominent pollutant</th>\n",
       "      <th>CO</th>\n",
       "      <th>Dew</th>\n",
       "      <th>Humidity</th>\n",
       "      <th>NO2</th>\n",
       "      <th>...</th>\n",
       "      <th>Pressure</th>\n",
       "      <th>PM10</th>\n",
       "      <th>PM2.5</th>\n",
       "      <th>SO2</th>\n",
       "      <th>Temperature</th>\n",
       "      <th>Wind</th>\n",
       "      <th>Data Time S</th>\n",
       "      <th>Data Time Tz</th>\n",
       "      <th>Status</th>\n",
       "      <th>Alert level</th>\n",
       "    </tr>\n",
       "  </thead>\n",
       "  <tbody>\n",
       "    <tr>\n",
       "      <th>0</th>\n",
       "      <td>8767.0</td>\n",
       "      <td>102.00</td>\n",
       "      <td>10.782978,106.700711</td>\n",
       "      <td>Ho Chi Minh City US Consulate, Vietnam (Lãnh s...</td>\n",
       "      <td>https://aqicn.org/city/vietnam/ho-chi-minh-cit...</td>\n",
       "      <td>pm25</td>\n",
       "      <td>-</td>\n",
       "      <td>NaN</td>\n",
       "      <td>83.0</td>\n",
       "      <td>-</td>\n",
       "      <td>...</td>\n",
       "      <td>1,009.00</td>\n",
       "      <td>NaN</td>\n",
       "      <td>102.00</td>\n",
       "      <td>-</td>\n",
       "      <td>27.0</td>\n",
       "      <td>3.6</td>\n",
       "      <td>2021-01-21 19:00:00</td>\n",
       "      <td>+07:00</td>\n",
       "      <td>#NAME?</td>\n",
       "      <td>#NAME?</td>\n",
       "    </tr>\n",
       "    <tr>\n",
       "      <th>1</th>\n",
       "      <td>8688.0</td>\n",
       "      <td>221.00</td>\n",
       "      <td>21.0811211,105.8180306</td>\n",
       "      <td>United Nations International School of Hanoi, ...</td>\n",
       "      <td>https://aqicn.org/city/vietnam/hanoi/unis</td>\n",
       "      <td>aqi</td>\n",
       "      <td>-</td>\n",
       "      <td>NaN</td>\n",
       "      <td>77.0</td>\n",
       "      <td>-</td>\n",
       "      <td>...</td>\n",
       "      <td>1,015.00</td>\n",
       "      <td>NaN</td>\n",
       "      <td>-</td>\n",
       "      <td>-</td>\n",
       "      <td>18.0</td>\n",
       "      <td>1.5</td>\n",
       "      <td>2021-01-21 20:00:00</td>\n",
       "      <td>+07:00</td>\n",
       "      <td>#NAME?</td>\n",
       "      <td>#NAME?</td>\n",
       "    </tr>\n",
       "    <tr>\n",
       "      <th>2</th>\n",
       "      <td>8641.0</td>\n",
       "      <td>281.00</td>\n",
       "      <td>21.0215063,105.8188748</td>\n",
       "      <td>Hanoi US Embassy, Vietnam (Đại sứ quán Mỹ, Hà ...</td>\n",
       "      <td>https://aqicn.org/city/vietnam/hanoi/us-embassy</td>\n",
       "      <td>pm25</td>\n",
       "      <td>0.30</td>\n",
       "      <td>NaN</td>\n",
       "      <td>77.0</td>\n",
       "      <td>8.70</td>\n",
       "      <td>...</td>\n",
       "      <td>1,015.00</td>\n",
       "      <td>NaN</td>\n",
       "      <td>281.00</td>\n",
       "      <td>2.10</td>\n",
       "      <td>18.0</td>\n",
       "      <td>1.5</td>\n",
       "      <td>2021-01-21 20:00:00</td>\n",
       "      <td>+07:00</td>\n",
       "      <td>#NAME?</td>\n",
       "      <td>#NAME?</td>\n",
       "    </tr>\n",
       "    <tr>\n",
       "      <th>3</th>\n",
       "      <td>13012.0</td>\n",
       "      <td>36.00</td>\n",
       "      <td>13.998599,107.996482</td>\n",
       "      <td>Gia Lai/phường Thống Nhất - Pleiku, Vietnam</td>\n",
       "      <td>https://aqicn.org/city/vietnam/gia-lai/phuong-...</td>\n",
       "      <td>pm25</td>\n",
       "      <td>3.00</td>\n",
       "      <td>NaN</td>\n",
       "      <td>60.2</td>\n",
       "      <td>6.00</td>\n",
       "      <td>...</td>\n",
       "      <td>923.70</td>\n",
       "      <td>29.00</td>\n",
       "      <td>36.00</td>\n",
       "      <td>1.00</td>\n",
       "      <td>24.3</td>\n",
       "      <td>1.0</td>\n",
       "      <td>2021-01-21 20:00:00</td>\n",
       "      <td>+07:00</td>\n",
       "      <td>#NAME?</td>\n",
       "      <td>#NAME?</td>\n",
       "    </tr>\n",
       "    <tr>\n",
       "      <th>4</th>\n",
       "      <td>12488.0</td>\n",
       "      <td>68.00</td>\n",
       "      <td>16.46226,107.596351</td>\n",
       "      <td>Thừa Thiên Huế/83 Hùng Vương, Vietnam</td>\n",
       "      <td>https://aqicn.org/city/vietnam/thua-thien-hue/...</td>\n",
       "      <td>pm25</td>\n",
       "      <td>2.00</td>\n",
       "      <td>NaN</td>\n",
       "      <td>88.0</td>\n",
       "      <td>-</td>\n",
       "      <td>...</td>\n",
       "      <td>1,015.00</td>\n",
       "      <td>52.00</td>\n",
       "      <td>68.00</td>\n",
       "      <td>-</td>\n",
       "      <td>21.0</td>\n",
       "      <td>1.0</td>\n",
       "      <td>2021-01-21 19:00:00</td>\n",
       "      <td>+07:00</td>\n",
       "      <td>#NAME?</td>\n",
       "      <td>#NAME?</td>\n",
       "    </tr>\n",
       "  </tbody>\n",
       "</table>\n",
       "<p>5 rows × 21 columns</p>\n",
       "</div>"
      ],
      "text/plain": [
       "   Station ID AQI index                Location  \\\n",
       "0      8767.0    102.00    10.782978,106.700711   \n",
       "1      8688.0    221.00  21.0811211,105.8180306   \n",
       "2      8641.0    281.00  21.0215063,105.8188748   \n",
       "3     13012.0     36.00    13.998599,107.996482   \n",
       "4     12488.0     68.00     16.46226,107.596351   \n",
       "\n",
       "                                        Station name  \\\n",
       "0  Ho Chi Minh City US Consulate, Vietnam (Lãnh s...   \n",
       "1  United Nations International School of Hanoi, ...   \n",
       "2  Hanoi US Embassy, Vietnam (Đại sứ quán Mỹ, Hà ...   \n",
       "3        Gia Lai/phường Thống Nhất - Pleiku, Vietnam   \n",
       "4              Thừa Thiên Huế/83 Hùng Vương, Vietnam   \n",
       "\n",
       "                                                 Url Dominent pollutant    CO  \\\n",
       "0  https://aqicn.org/city/vietnam/ho-chi-minh-cit...               pm25     -   \n",
       "1          https://aqicn.org/city/vietnam/hanoi/unis                aqi     -   \n",
       "2    https://aqicn.org/city/vietnam/hanoi/us-embassy               pm25  0.30   \n",
       "3  https://aqicn.org/city/vietnam/gia-lai/phuong-...               pm25  3.00   \n",
       "4  https://aqicn.org/city/vietnam/thua-thien-hue/...               pm25  2.00   \n",
       "\n",
       "   Dew  Humidity   NO2  ...  Pressure   PM10   PM2.5   SO2 Temperature  Wind  \\\n",
       "0  NaN      83.0     -  ...  1,009.00    NaN  102.00     -        27.0   3.6   \n",
       "1  NaN      77.0     -  ...  1,015.00    NaN       -     -        18.0   1.5   \n",
       "2  NaN      77.0  8.70  ...  1,015.00    NaN  281.00  2.10        18.0   1.5   \n",
       "3  NaN      60.2  6.00  ...    923.70  29.00   36.00  1.00        24.3   1.0   \n",
       "4  NaN      88.0     -  ...  1,015.00  52.00   68.00     -        21.0   1.0   \n",
       "\n",
       "           Data Time S Data Time Tz  Status Alert level  \n",
       "0  2021-01-21 19:00:00       +07:00  #NAME?      #NAME?  \n",
       "1  2021-01-21 20:00:00       +07:00  #NAME?      #NAME?  \n",
       "2  2021-01-21 20:00:00       +07:00  #NAME?      #NAME?  \n",
       "3  2021-01-21 20:00:00       +07:00  #NAME?      #NAME?  \n",
       "4  2021-01-21 19:00:00       +07:00  #NAME?      #NAME?  \n",
       "\n",
       "[5 rows x 21 columns]"
      ]
     },
     "execution_count": 29,
     "metadata": {},
     "output_type": "execute_result"
    }
   ],
   "source": [
    "df = pd.read_csv(\"./historical_air_quality_2021_en.csv\")\n",
    "df.head()"
   ]
  },
  {
   "attachments": {},
   "cell_type": "markdown",
   "metadata": {},
   "source": [
    "## Dữ liệu có bao nhiêu dòng, bao nhiêu cột?"
   ]
  },
  {
   "cell_type": "code",
   "execution_count": 30,
   "metadata": {},
   "outputs": [
    {
     "data": {
      "text/plain": [
       "(3415, 21)"
      ]
     },
     "execution_count": 30,
     "metadata": {},
     "output_type": "execute_result"
    }
   ],
   "source": [
    "num_rows, num_cols = df.shape\n",
    "num_rows, num_cols"
   ]
  },
  {
   "attachments": {},
   "cell_type": "markdown",
   "metadata": {},
   "source": [
    "Loại bỏ những cột không cần thiết"
   ]
  },
  {
   "attachments": {},
   "cell_type": "markdown",
   "metadata": {},
   "source": [
    "Ý nghĩa các cột không cần thiết:\n",
    "- Station ID: ID của trạm quan trắc không khí.\n",
    "- Url: Đường dẫn đến trang web liên quan đến dữ liệu không khí của trạm.\n",
    "- Status: Trạng thái dữ liệu.\n",
    "- Alert level: Cấp độ cảnh báo.\n",
    "- Data Time Tz: Múi giờ của dữ liệu.\n"
   ]
  },
  {
   "cell_type": "code",
   "execution_count": 31,
   "metadata": {},
   "outputs": [],
   "source": [
    "to_be_droped = ['Station ID', 'Url','Status', 'Alert level', 'Data Time Tz']\n",
    "df = df.drop(columns=to_be_droped)"
   ]
  },
  {
   "cell_type": "code",
   "execution_count": 32,
   "metadata": {},
   "outputs": [
    {
     "data": {
      "text/plain": [
       "AQI index             1314\n",
       "Location               793\n",
       "Station name           793\n",
       "Dominent pollutant    1301\n",
       "CO                    1260\n",
       "Dew                   1152\n",
       "Humidity               807\n",
       "NO2                   1423\n",
       "O3                    2188\n",
       "Pressure               807\n",
       "PM10                  1527\n",
       "PM2.5                 1231\n",
       "SO2                   2154\n",
       "Temperature            800\n",
       "Wind                   800\n",
       "Data Time S            793\n",
       "dtype: int64"
      ]
     },
     "execution_count": 32,
     "metadata": {},
     "output_type": "execute_result"
    }
   ],
   "source": [
    "df = df.replace('-', np.nan)\n",
    "df.isna().sum()"
   ]
  },
  {
   "attachments": {},
   "cell_type": "markdown",
   "metadata": {},
   "source": [
    "Quan sát thấy có số lượng lớn dữ liệu bị thiếu và có những cột phải xử lý kiểu dữ liệu do vậy ta phải tiền xử lý dữ liệu."
   ]
  },
  {
   "attachments": {},
   "cell_type": "markdown",
   "metadata": {},
   "source": [
    "## Tiền xử lí dữ liệu"
   ]
  },
  {
   "cell_type": "markdown",
   "metadata": {},
   "source": [
    "Đưa cột `Data Time S` về kiểu dữ liệu `datetime`"
   ]
  },
  {
   "cell_type": "code",
   "execution_count": 33,
   "metadata": {},
   "outputs": [],
   "source": [
    "def cast_to_datetime(datetime_str):\n",
    "    res = pd.to_datetime(datetime_str)\n",
    "\n",
    "    if res.tzinfo is not None:\n",
    "        res = res.tz_localize(None)\n",
    "\n",
    "    return res\n",
    "\n",
    "df['Data Time S'] = df['Data Time S'].apply(cast_to_datetime)"
   ]
  },
  {
   "cell_type": "markdown",
   "metadata": {},
   "source": [
    "Đưa các cột `numerical` về đúng kiểu dữ liệu"
   ]
  },
  {
   "cell_type": "code",
   "execution_count": 34,
   "metadata": {},
   "outputs": [],
   "source": [
    "df['Pressure'] = df['Pressure'].str.replace(',', '')\n",
    "\n",
    "numerical_labels = ['AQI index', 'CO', 'Dew',\n",
    "                    'Humidity', 'NO2', 'O3', 'Pressure',\n",
    "                    'PM10', 'PM2.5', 'SO2', 'Temperature', 'Wind']\n",
    "df[numerical_labels] = df[numerical_labels].astype('float64')"
   ]
  },
  {
   "cell_type": "markdown",
   "metadata": {},
   "source": [
    "Gom nhóm các tỉnh thành"
   ]
  },
  {
   "cell_type": "code",
   "execution_count": 35,
   "metadata": {},
   "outputs": [],
   "source": [
    "state_labels = [\"Hà Nội\", \"Bắc Ninh\", \"Quảng Ninh\", \"Cao Bằng\", \"Gia Lai\",\n",
    "                \"Lào Cai\", \"Nha Trang\", \"Hồ Chí Minh\", \"Đà Nẵng\", \"Thừa Thiên Huế\", \"Hạ Long\"]\n",
    "\n",
    "\n",
    "def classify_region(station_name):\n",
    "    if (not isinstance(station_name, str)):\n",
    "        return station_name\n",
    "\n",
    "    for state in state_labels:\n",
    "        if state in station_name:\n",
    "            return state\n",
    "    print(station_name)\n",
    "\n",
    "\n",
    "df['Station name'] = df['Station name'].apply(classify_region)\n"
   ]
  },
  {
   "cell_type": "markdown",
   "metadata": {},
   "source": [
    "Điền các cột dữ liệu còn thiếu bằng trung vị của khu vực đó"
   ]
  },
  {
   "cell_type": "code",
   "execution_count": 36,
   "metadata": {},
   "outputs": [],
   "source": [
    "def fill_missing_value(x):\n",
    "    same_station = df[df[\"Station name\"] == x[\"Station name\"]]\n",
    "    for col in numerical_labels:\n",
    "        if col == \"AQI index\":\n",
    "            continue\n",
    "        if np.isnan(x[col]):\n",
    "            if same_station[col].isna().all():\n",
    "                x[col] = df[col].median()\n",
    "            else:\n",
    "                x[col] = same_station[col].median()\n",
    "    return x\n",
    "df = df.apply(fill_missing_value, axis=1)"
   ]
  },
  {
   "attachments": {},
   "cell_type": "markdown",
   "metadata": {},
   "source": [
    "Điền giá trị cho các dòng không có `AQI index`, `Dominent pollutant` theo công thức tính AQI của Cục Bảo vệ Môi trường Hoa Kỳ (EPA)\n",
    "https://www.airnow.gov/sites/default/files/2020-05/aqi-technical-assistance-document-sept2018.pdf"
   ]
  },
  {
   "cell_type": "code",
   "execution_count": null,
   "metadata": {},
   "outputs": [],
   "source": [
    "# Define breakpoints and AQI levels\n",
    "breakpoints = {\n",
    "    'O3': [(0, 54), (55, 70), (71, 85), (86, 105), (106, 200)],\n",
    "    'PM2.5': [(0.0, 12.0), (12.1, 35.4), (35.5, 55.4), (55.5, 150.4), (150.5, 250.4), (250.5, 350.4), (350.5, 500.4)],\n",
    "    'PM10': [(0, 54), (55, 154), (155, 254), (255, 354), (355, 424), (425, 504), (505, 604)],\n",
    "    'CO': [(0.0, 4.4), (4.5, 9.4), (9.5, 12.4), (12.5, 15.4), (15.5, 30.4), (30.5, 40.4), (40.5, 50.4)],\n",
    "    'SO2': [(0, 35), (36, 75), (76, 185), (186, 304)],\n",
    "    'NO2': [(0, 53), (54, 100), (101, 360), (361, 649), (650, 1249), (1250, 1649), (1650, 2049)]\n",
    "}\n",
    "aqi_levels = [(0, 50), (51, 100), (101, 150), (151, 200),\n",
    "              (201, 300), (301, 400), (401, 500)]\n",
    "\n",
    "\n",
    "# Define function to calculate AQI base on formula\n",
    "def aqi_formula(concentration, c, i):\n",
    "    aqi = ((concentration - c[0]) / (c[1] - c[0])) * \\\n",
    "        (i[1] - i[0]) + i[0]\n",
    "    return aqi\n",
    "\n",
    "\n",
    "# Define function to calculate AQI for a single pollutant\n",
    "\n",
    "\n",
    "def calculate_individual_aqi(pollutant_name, concentration):\n",
    "    if math.isnan(concentration):\n",
    "        return np.nan\n",
    "    bps = breakpoints[pollutant_name]\n",
    "\n",
    "    for i in range(len(bps)):\n",
    "        if bps[i][0] <= concentration <= bps[i][1]:\n",
    "            aqi = aqi_formula(concentration, bps[i], aqi_levels[i])\n",
    "            return round(aqi)\n",
    "    last_level = len(bps) - 1\n",
    "    return round(aqi_formula(concentration, bps[last_level], aqi_levels[last_level]))\n",
    "\n",
    "\n",
    "def calculate_aqi(pollutant_concentrations):\n",
    "\n",
    "    # Calculate AQI for each pollutant\n",
    "    AQI_indexes = [calculate_individual_aqi(\n",
    "        pollutant, pollutant_concentrations[pollutant]) for pollutant in breakpoints.keys()]\n",
    "\n",
    "    # Return maximum AQI value\n",
    "    if np.isnan(AQI_indexes).all():\n",
    "        return np.nan\n",
    "    else:\n",
    "        return max(AQI_indexes, key=lambda index: 0 if np.isnan(index) else index)\n",
    "\n",
    "\n",
    "def specify_dominant_pollutant(pollutant_concentrations):\n",
    "    pollutant_aqi_dict = {pollutant: calculate_individual_aqi(\n",
    "        pollutant, pollutant_concentrations[pollutant]) for pollutant in breakpoints.keys()}\n",
    "\n",
    "    return max(breakpoints.keys(), key=lambda pollutant: 0 if np.isnan(pollutant_aqi_dict[pollutant]) else pollutant_aqi_dict[pollutant])\n",
    "\n",
    "\n",
    "aqi_na_rows = df['AQI index'].isna()\n",
    "df.loc[aqi_na_rows, 'AQI index'] = df[aqi_na_rows].apply(calculate_aqi, axis=1)\n",
    "\n",
    "dominant_pollu_trans_dict = {'pm25': 'PM2.5', 'aqi': 'aqi', 'pm10': 'PM10'}\n",
    "dominant_na_rows = df['Dominent pollutant'].isna()\n",
    "df.loc[~dominant_na_rows, 'Dominent pollutant'] = df[~dominant_na_rows].apply(lambda x:\n",
    "                                                                              dominant_pollu_trans_dict[x['Dominent pollutant']], axis=1)\n",
    "df.loc[dominant_na_rows, 'Dominent pollutant'] = df[dominant_na_rows].apply(\n",
    "    specify_dominant_pollutant, axis=1)\n"
   ]
  },
  {
   "cell_type": "markdown",
   "metadata": {},
   "source": [
    "Xây dựng lại cột `Status` theo tiêu chuẩn của Cục Bảo vệ Môi trường Hoa Kỳ (US-EPA)\n",
    "\n",
    "|AQI|Status|\n",
    "|--|:------:|\n",
    "|0-50|Good|\n",
    "|51-100|Moderate|\n",
    "|101-150|Unhealthy for sensitive groups|\n",
    "|151-200|Unhealthy|\n",
    "|201-300|Very unhealthy|\n",
    "|301+|Hazardous|"
   ]
  },
  {
   "cell_type": "code",
   "execution_count": null,
   "metadata": {},
   "outputs": [],
   "source": [
    "def status(x):\n",
    "    if 0 <= x <= 50:\n",
    "        return 'Good'\n",
    "    if 51 <= x <= 100:\n",
    "        return 'Moderate'\n",
    "    if 101 <= x <= 150:\n",
    "        return 'Unhealthy for sensitive groups'\n",
    "    if 151 <= x <= 200:\n",
    "        return 'Unhealthy'\n",
    "    if 201 <= x <= 300:\n",
    "        return 'Very unhealthy'\n",
    "    if 301 <= x:\n",
    "        return 'Hazardous'\n",
    "df['Status'] = df['AQI index'].apply(status)"
   ]
  },
  {
   "cell_type": "markdown",
   "metadata": {},
   "source": [
    "Xóa những dòng trùng lặp / thiếu dữ liệu"
   ]
  },
  {
   "cell_type": "code",
   "execution_count": null,
   "metadata": {},
   "outputs": [],
   "source": [
    "df = df.dropna()\n",
    "df = df.drop_duplicates()"
   ]
  },
  {
   "cell_type": "markdown",
   "metadata": {},
   "source": [
    "Tách `Location` thành `Latitude` và `Longitude`"
   ]
  },
  {
   "cell_type": "code",
   "execution_count": null,
   "metadata": {},
   "outputs": [],
   "source": [
    "location = df['Location'].str.split(',')\n",
    "df['Latitude'] = location.apply(lambda x: x[0]).astype(float)\n",
    "df['Longitude'] = location.apply(lambda x: x[1]).astype(float)\n",
    "df = df.drop(columns='Location')"
   ]
  },
  {
   "attachments": {},
   "cell_type": "markdown",
   "metadata": {},
   "source": [
    "#### Lưu dataset đã xử lí"
   ]
  },
  {
   "cell_type": "code",
   "execution_count": null,
   "metadata": {},
   "outputs": [],
   "source": [
    "df.to_csv(\"./processed.csv\", index=False)"
   ]
  }
 ],
 "metadata": {
  "kernelspec": {
   "display_name": "Python 3",
   "language": "python",
   "name": "python3"
  },
  "language_info": {
   "codemirror_mode": {
    "name": "ipython",
    "version": 3
   },
   "file_extension": ".py",
   "mimetype": "text/x-python",
   "name": "python",
   "nbconvert_exporter": "python",
   "pygments_lexer": "ipython3",
   "version": "3.10.8"
  },
  "orig_nbformat": 4
 },
 "nbformat": 4,
 "nbformat_minor": 2
}
