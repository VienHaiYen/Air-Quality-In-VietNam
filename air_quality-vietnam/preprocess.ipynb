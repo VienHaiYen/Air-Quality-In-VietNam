{
 "cells": [
  {
   "attachments": {},
   "cell_type": "markdown",
   "metadata": {},
   "source": [
    "# TIỀN XỬ LÍ DỮ LIỆU"
   ]
  },
  {
   "cell_type": "code",
   "execution_count": 32,
   "metadata": {},
   "outputs": [],
   "source": [
    "import pandas as pd\n",
    "import numpy as np"
   ]
  },
  {
   "cell_type": "code",
   "execution_count": 33,
   "metadata": {},
   "outputs": [
    {
     "data": {
      "text/html": [
       "<div>\n",
       "<style scoped>\n",
       "    .dataframe tbody tr th:only-of-type {\n",
       "        vertical-align: middle;\n",
       "    }\n",
       "\n",
       "    .dataframe tbody tr th {\n",
       "        vertical-align: top;\n",
       "    }\n",
       "\n",
       "    .dataframe thead th {\n",
       "        text-align: right;\n",
       "    }\n",
       "</style>\n",
       "<table border=\"1\" class=\"dataframe\">\n",
       "  <thead>\n",
       "    <tr style=\"text-align: right;\">\n",
       "      <th></th>\n",
       "      <th>Station ID</th>\n",
       "      <th>AQI index</th>\n",
       "      <th>Location</th>\n",
       "      <th>Station name</th>\n",
       "      <th>Url</th>\n",
       "      <th>Dominent pollutant</th>\n",
       "      <th>CO</th>\n",
       "      <th>Dew</th>\n",
       "      <th>Humidity</th>\n",
       "      <th>NO2</th>\n",
       "      <th>...</th>\n",
       "      <th>Pressure</th>\n",
       "      <th>PM10</th>\n",
       "      <th>PM2.5</th>\n",
       "      <th>SO2</th>\n",
       "      <th>Temperature</th>\n",
       "      <th>Wind</th>\n",
       "      <th>Data Time S</th>\n",
       "      <th>Data Time Tz</th>\n",
       "      <th>Status</th>\n",
       "      <th>Alert level</th>\n",
       "    </tr>\n",
       "  </thead>\n",
       "  <tbody>\n",
       "    <tr>\n",
       "      <th>0</th>\n",
       "      <td>8767.0</td>\n",
       "      <td>102.00</td>\n",
       "      <td>10.782978,106.700711</td>\n",
       "      <td>Ho Chi Minh City US Consulate, Vietnam (Lãnh s...</td>\n",
       "      <td>https://aqicn.org/city/vietnam/ho-chi-minh-cit...</td>\n",
       "      <td>pm25</td>\n",
       "      <td>-</td>\n",
       "      <td>NaN</td>\n",
       "      <td>83.0</td>\n",
       "      <td>-</td>\n",
       "      <td>...</td>\n",
       "      <td>1,009.00</td>\n",
       "      <td>NaN</td>\n",
       "      <td>102.00</td>\n",
       "      <td>-</td>\n",
       "      <td>27.0</td>\n",
       "      <td>3.6</td>\n",
       "      <td>2021-01-21 19:00:00</td>\n",
       "      <td>+07:00</td>\n",
       "      <td>#NAME?</td>\n",
       "      <td>#NAME?</td>\n",
       "    </tr>\n",
       "    <tr>\n",
       "      <th>1</th>\n",
       "      <td>8688.0</td>\n",
       "      <td>221.00</td>\n",
       "      <td>21.0811211,105.8180306</td>\n",
       "      <td>United Nations International School of Hanoi, ...</td>\n",
       "      <td>https://aqicn.org/city/vietnam/hanoi/unis</td>\n",
       "      <td>aqi</td>\n",
       "      <td>-</td>\n",
       "      <td>NaN</td>\n",
       "      <td>77.0</td>\n",
       "      <td>-</td>\n",
       "      <td>...</td>\n",
       "      <td>1,015.00</td>\n",
       "      <td>NaN</td>\n",
       "      <td>-</td>\n",
       "      <td>-</td>\n",
       "      <td>18.0</td>\n",
       "      <td>1.5</td>\n",
       "      <td>2021-01-21 20:00:00</td>\n",
       "      <td>+07:00</td>\n",
       "      <td>#NAME?</td>\n",
       "      <td>#NAME?</td>\n",
       "    </tr>\n",
       "    <tr>\n",
       "      <th>2</th>\n",
       "      <td>8641.0</td>\n",
       "      <td>281.00</td>\n",
       "      <td>21.0215063,105.8188748</td>\n",
       "      <td>Hanoi US Embassy, Vietnam (Đại sứ quán Mỹ, Hà ...</td>\n",
       "      <td>https://aqicn.org/city/vietnam/hanoi/us-embassy</td>\n",
       "      <td>pm25</td>\n",
       "      <td>0.30</td>\n",
       "      <td>NaN</td>\n",
       "      <td>77.0</td>\n",
       "      <td>8.70</td>\n",
       "      <td>...</td>\n",
       "      <td>1,015.00</td>\n",
       "      <td>NaN</td>\n",
       "      <td>281.00</td>\n",
       "      <td>2.10</td>\n",
       "      <td>18.0</td>\n",
       "      <td>1.5</td>\n",
       "      <td>2021-01-21 20:00:00</td>\n",
       "      <td>+07:00</td>\n",
       "      <td>#NAME?</td>\n",
       "      <td>#NAME?</td>\n",
       "    </tr>\n",
       "    <tr>\n",
       "      <th>3</th>\n",
       "      <td>13012.0</td>\n",
       "      <td>36.00</td>\n",
       "      <td>13.998599,107.996482</td>\n",
       "      <td>Gia Lai/phường Thống Nhất - Pleiku, Vietnam</td>\n",
       "      <td>https://aqicn.org/city/vietnam/gia-lai/phuong-...</td>\n",
       "      <td>pm25</td>\n",
       "      <td>3.00</td>\n",
       "      <td>NaN</td>\n",
       "      <td>60.2</td>\n",
       "      <td>6.00</td>\n",
       "      <td>...</td>\n",
       "      <td>923.70</td>\n",
       "      <td>29.00</td>\n",
       "      <td>36.00</td>\n",
       "      <td>1.00</td>\n",
       "      <td>24.3</td>\n",
       "      <td>1.0</td>\n",
       "      <td>2021-01-21 20:00:00</td>\n",
       "      <td>+07:00</td>\n",
       "      <td>#NAME?</td>\n",
       "      <td>#NAME?</td>\n",
       "    </tr>\n",
       "    <tr>\n",
       "      <th>4</th>\n",
       "      <td>12488.0</td>\n",
       "      <td>68.00</td>\n",
       "      <td>16.46226,107.596351</td>\n",
       "      <td>Thừa Thiên Huế/83 Hùng Vương, Vietnam</td>\n",
       "      <td>https://aqicn.org/city/vietnam/thua-thien-hue/...</td>\n",
       "      <td>pm25</td>\n",
       "      <td>2.00</td>\n",
       "      <td>NaN</td>\n",
       "      <td>88.0</td>\n",
       "      <td>-</td>\n",
       "      <td>...</td>\n",
       "      <td>1,015.00</td>\n",
       "      <td>52.00</td>\n",
       "      <td>68.00</td>\n",
       "      <td>-</td>\n",
       "      <td>21.0</td>\n",
       "      <td>1.0</td>\n",
       "      <td>2021-01-21 19:00:00</td>\n",
       "      <td>+07:00</td>\n",
       "      <td>#NAME?</td>\n",
       "      <td>#NAME?</td>\n",
       "    </tr>\n",
       "  </tbody>\n",
       "</table>\n",
       "<p>5 rows × 21 columns</p>\n",
       "</div>"
      ],
      "text/plain": [
       "   Station ID AQI index                Location  \\\n",
       "0      8767.0    102.00    10.782978,106.700711   \n",
       "1      8688.0    221.00  21.0811211,105.8180306   \n",
       "2      8641.0    281.00  21.0215063,105.8188748   \n",
       "3     13012.0     36.00    13.998599,107.996482   \n",
       "4     12488.0     68.00     16.46226,107.596351   \n",
       "\n",
       "                                        Station name  \\\n",
       "0  Ho Chi Minh City US Consulate, Vietnam (Lãnh s...   \n",
       "1  United Nations International School of Hanoi, ...   \n",
       "2  Hanoi US Embassy, Vietnam (Đại sứ quán Mỹ, Hà ...   \n",
       "3        Gia Lai/phường Thống Nhất - Pleiku, Vietnam   \n",
       "4              Thừa Thiên Huế/83 Hùng Vương, Vietnam   \n",
       "\n",
       "                                                 Url Dominent pollutant    CO  \\\n",
       "0  https://aqicn.org/city/vietnam/ho-chi-minh-cit...               pm25     -   \n",
       "1          https://aqicn.org/city/vietnam/hanoi/unis                aqi     -   \n",
       "2    https://aqicn.org/city/vietnam/hanoi/us-embassy               pm25  0.30   \n",
       "3  https://aqicn.org/city/vietnam/gia-lai/phuong-...               pm25  3.00   \n",
       "4  https://aqicn.org/city/vietnam/thua-thien-hue/...               pm25  2.00   \n",
       "\n",
       "   Dew  Humidity   NO2  ...  Pressure   PM10   PM2.5   SO2 Temperature  Wind  \\\n",
       "0  NaN      83.0     -  ...  1,009.00    NaN  102.00     -        27.0   3.6   \n",
       "1  NaN      77.0     -  ...  1,015.00    NaN       -     -        18.0   1.5   \n",
       "2  NaN      77.0  8.70  ...  1,015.00    NaN  281.00  2.10        18.0   1.5   \n",
       "3  NaN      60.2  6.00  ...    923.70  29.00   36.00  1.00        24.3   1.0   \n",
       "4  NaN      88.0     -  ...  1,015.00  52.00   68.00     -        21.0   1.0   \n",
       "\n",
       "           Data Time S Data Time Tz  Status Alert level  \n",
       "0  2021-01-21 19:00:00       +07:00  #NAME?      #NAME?  \n",
       "1  2021-01-21 20:00:00       +07:00  #NAME?      #NAME?  \n",
       "2  2021-01-21 20:00:00       +07:00  #NAME?      #NAME?  \n",
       "3  2021-01-21 20:00:00       +07:00  #NAME?      #NAME?  \n",
       "4  2021-01-21 19:00:00       +07:00  #NAME?      #NAME?  \n",
       "\n",
       "[5 rows x 21 columns]"
      ]
     },
     "execution_count": 33,
     "metadata": {},
     "output_type": "execute_result"
    }
   ],
   "source": [
    "df = pd.read_csv(\"./historical_air_quality_2021_en.csv\")\n",
    "df.head()"
   ]
  },
  {
   "attachments": {},
   "cell_type": "markdown",
   "metadata": {},
   "source": [
    "## Dữ liệu có bao nhiêu dòng, bao nhiêu cột?"
   ]
  },
  {
   "cell_type": "code",
   "execution_count": 34,
   "metadata": {},
   "outputs": [
    {
     "data": {
      "text/plain": [
       "(3415, 21)"
      ]
     },
     "execution_count": 34,
     "metadata": {},
     "output_type": "execute_result"
    }
   ],
   "source": [
    "num_rows, num_cols = df.shape\n",
    "num_rows, num_cols"
   ]
  },
  {
   "attachments": {},
   "cell_type": "markdown",
   "metadata": {},
   "source": [
    "## Mỗi dòng có ý nghĩa gì ?"
   ]
  },
  {
   "attachments": {},
   "cell_type": "markdown",
   "metadata": {},
   "source": [
    "Thể hiện tình trạng không khí tại từng thời điểm ở một vị trí xác định."
   ]
  },
  {
   "attachments": {},
   "cell_type": "markdown",
   "metadata": {},
   "source": [
    "## Mỗi cột có ý nghĩa gì ?"
   ]
  },
  {
   "attachments": {},
   "cell_type": "markdown",
   "metadata": {},
   "source": [
    "Bao gồm 21 cột:\n",
    "- Station ID: ID của trạm quan trắc không khí.\n",
    "- AQI index: Chỉ số chất lượng không khí (Air Quality Index).\n",
    "- Location: Vị trí địa lý của trạm quan trắc không khí.\n",
    "- Station name: Tên trạm quan trắc không khí.\n",
    "- Url: Đường dẫn đến trang web liên quan đến dữ liệu không khí của trạm.\n",
    "- Dominent pollutant: Chất gây ô nhiễm nổi bật.\n",
    "- CO: Nồng độ khí CO (carbon monoxide).\n",
    "- Dew: Điểm sương.\n",
    "- Humidity: Độ ẩm.\n",
    "- NO2: Nồng độ khí NO2 (nitrogen dioxide).\n",
    "- O3: Nồng độ khí O3 (ozone).\n",
    "- Pressure: Áp suất khí quyển.\n",
    "- PM10: Nồng độ bụi mịn PM10 (particulate matter 10 micrometers or less).\n",
    "- PM2.5: Nồng độ bụi mịn PM2.5 (particulate matter 2.5 micrometers or less).\n",
    "- SO2: Nồng độ khí SO2 (sulfur dioxide).\n",
    "- Temperature: Nhiệt độ.\n",
    "- Wind: Tốc độ gió.\n",
    "- Data Time S: Thời gian dữ liệu được ghi lại (theo múi giờ cục bộ).\n",
    "- Data Time Tz: Múi giờ của dữ liệu.\n",
    "- Status: Trạng thái dữ liệu.\n",
    "- Alert level: Cấp độ cảnh báo.\n"
   ]
  },
  {
   "attachments": {},
   "cell_type": "markdown",
   "metadata": {},
   "source": [
    "Loại bỏ những cột không cần thiết"
   ]
  },
  {
   "cell_type": "code",
   "execution_count": 35,
   "metadata": {},
   "outputs": [],
   "source": [
    "to_be_droped = ['Station ID', 'Url','Status', 'Alert level', 'Data Time Tz']\n",
    "df = df.drop(columns=to_be_droped)"
   ]
  },
  {
   "attachments": {},
   "cell_type": "markdown",
   "metadata": {},
   "source": [
    "## Mỗi cột hiện đang có kiểu dữ liệu gì? Có dữ liệu nào bị thiếu không?"
   ]
  },
  {
   "cell_type": "code",
   "execution_count": 36,
   "metadata": {},
   "outputs": [
    {
     "data": {
      "text/plain": [
       "AQI index              object\n",
       "Location               object\n",
       "Station name           object\n",
       "Dominent pollutant     object\n",
       "CO                     object\n",
       "Dew                   float64\n",
       "Humidity              float64\n",
       "NO2                    object\n",
       "O3                     object\n",
       "Pressure               object\n",
       "PM10                   object\n",
       "PM2.5                  object\n",
       "SO2                    object\n",
       "Temperature           float64\n",
       "Wind                  float64\n",
       "Data Time S            object\n",
       "dtype: object"
      ]
     },
     "execution_count": 36,
     "metadata": {},
     "output_type": "execute_result"
    }
   ],
   "source": [
    "df.dtypes"
   ]
  },
  {
   "cell_type": "code",
   "execution_count": 37,
   "metadata": {},
   "outputs": [
    {
     "data": {
      "text/plain": [
       "AQI index             1314\n",
       "Location               793\n",
       "Station name           793\n",
       "Dominent pollutant    1301\n",
       "CO                    1260\n",
       "Dew                   1152\n",
       "Humidity               807\n",
       "NO2                   1423\n",
       "O3                    2188\n",
       "Pressure               807\n",
       "PM10                  1527\n",
       "PM2.5                 1231\n",
       "SO2                   2154\n",
       "Temperature            800\n",
       "Wind                   800\n",
       "Data Time S            793\n",
       "dtype: int64"
      ]
     },
     "execution_count": 37,
     "metadata": {},
     "output_type": "execute_result"
    }
   ],
   "source": [
    "df = df.replace('-', np.nan)\n",
    "df.isna().sum()"
   ]
  },
  {
   "attachments": {},
   "cell_type": "markdown",
   "metadata": {},
   "source": [
    "Quan sát thấy có số lượng lớn dữ liệu bị thiếu và có những cột phải xử lý kiểu dữ liệu do vậy ta phải tiền xử lý dữ liệu."
   ]
  },
  {
   "attachments": {},
   "cell_type": "markdown",
   "metadata": {},
   "source": [
    "## Tiền xử lí dữ liệu"
   ]
  },
  {
   "attachments": {},
   "cell_type": "markdown",
   "metadata": {},
   "source": [
    "Xóa các dòng không có `AQI index`"
   ]
  },
  {
   "cell_type": "code",
   "execution_count": 38,
   "metadata": {},
   "outputs": [],
   "source": [
    "df = df[~df['AQI index'].isna()]"
   ]
  },
  {
   "attachments": {},
   "cell_type": "markdown",
   "metadata": {},
   "source": [
    "Đưa các cột numerical về đúng kiểu dữ liệu"
   ]
  },
  {
   "cell_type": "code",
   "execution_count": 39,
   "metadata": {},
   "outputs": [],
   "source": [
    "df['Pressure'] = df['Pressure'].str.replace(',', '')\n",
    "\n",
    "numerical_labels = ['AQI index', 'CO', 'Dew', \n",
    "'Humidity', 'NO2', 'O3','Pressure', \n",
    "'PM10', 'PM2.5','SO2', 'Temperature', 'Wind']\n",
    "df[numerical_labels] = df[numerical_labels].astype('float64')"
   ]
  },
  {
   "attachments": {},
   "cell_type": "markdown",
   "metadata": {},
   "source": [
    "Điền các cột dữ liệu còn thiếu bằng trung vị"
   ]
  },
  {
   "cell_type": "code",
   "execution_count": 40,
   "metadata": {},
   "outputs": [],
   "source": [
    "df[numerical_labels[1:]] = df[numerical_labels[1:]].apply(lambda x: x.fillna(x.median()), axis=0)"
   ]
  },
  {
   "attachments": {},
   "cell_type": "markdown",
   "metadata": {},
   "source": [
    "Xóa những dòng trùng lặp / thiếu dữ liệu"
   ]
  },
  {
   "cell_type": "code",
   "execution_count": 41,
   "metadata": {},
   "outputs": [],
   "source": [
    "df = df.dropna()\n",
    "df = df.drop_duplicates()"
   ]
  },
  {
   "attachments": {},
   "cell_type": "markdown",
   "metadata": {},
   "source": [
    "Xây dựng lại cột `Status` theo tiêu chuẩn của Cục Bảo vệ Môi trường Hoa Kỳ (US-EPA)\n",
    "\n",
    "|AQI|Status|\n",
    "|--|:------:|\n",
    "|0-50|Good|\n",
    "|51-100|Moderate|\n",
    "|101-150|Unhealthy for sensitive groups|\n",
    "|151-200|Unhealthy|\n",
    "|201-300|Very unhealthy|\n",
    "|301+|Hazardous|"
   ]
  },
  {
   "cell_type": "code",
   "execution_count": 42,
   "metadata": {},
   "outputs": [],
   "source": [
    "def status(x):\n",
    "    if 0 <= x <= 50:\n",
    "        return 'Good'\n",
    "    if 51 <= x <= 100:\n",
    "        return 'Moderate'\n",
    "    if 101 <= x <= 150:\n",
    "        return 'Unhealthy for sensitive groups'\n",
    "    if 151 <= x <= 200:\n",
    "        return 'Unhealthy'\n",
    "    if 201 <= x <= 300:\n",
    "        return 'Very unhealthy'\n",
    "    if 301 <= x:\n",
    "        return 'Hazardous'\n",
    "df['Status'] = df['AQI index'].apply(status)"
   ]
  },
  {
   "attachments": {},
   "cell_type": "markdown",
   "metadata": {},
   "source": [
    "Gom nhóm các tỉnh thành"
   ]
  },
  {
   "cell_type": "code",
   "execution_count": 43,
   "metadata": {},
   "outputs": [],
   "source": [
    "def classify_region(station_name):\n",
    "    state_labels = [\"Hà Nội\", \"Bắc Ninh\",\"Quảng Ninh\", \"Cao Bằng\", \"Gia Lai\", \"Lào Cai\",\"Nha Trang\",\"Hồ Chí Minh\",\"Đà Nẵng\",\"Thừa Thiên Huế\", \"Hạ Long\"]\n",
    "    for state in state_labels:\n",
    "        if state in station_name:   return state\n",
    "    print(station_name)\n",
    "\n",
    "df['Station name'] = df['Station name'].apply(classify_region)"
   ]
  },
  {
   "attachments": {},
   "cell_type": "markdown",
   "metadata": {},
   "source": [
    "Tách `Location` thành `Latitude` và `Longitude`"
   ]
  },
  {
   "cell_type": "code",
   "execution_count": 44,
   "metadata": {},
   "outputs": [],
   "source": [
    "location = df['Location'].str.split(',')\n",
    "df['Latitude'] = location.apply(lambda x: x[0]).astype(float)\n",
    "df['Longitude'] = location.apply(lambda x: x[1]).astype(float)\n",
    "df = df.drop(columns='Location')"
   ]
  },
  {
   "attachments": {},
   "cell_type": "markdown",
   "metadata": {},
   "source": [
    "#### Lưu dataset đã xử lí"
   ]
  },
  {
   "cell_type": "code",
   "execution_count": 45,
   "metadata": {},
   "outputs": [],
   "source": [
    "df.to_csv(\"./processed.csv\")"
   ]
  }
 ],
 "metadata": {
  "kernelspec": {
   "display_name": "Python 3",
   "language": "python",
   "name": "python3"
  },
  "language_info": {
   "codemirror_mode": {
    "name": "ipython",
    "version": 3
   },
   "file_extension": ".py",
   "mimetype": "text/x-python",
   "name": "python",
   "nbconvert_exporter": "python",
   "pygments_lexer": "ipython3",
   "version": "3.9.7"
  },
  "orig_nbformat": 4
 },
 "nbformat": 4,
 "nbformat_minor": 2
}
